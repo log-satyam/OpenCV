{
 "cells": [
  {
   "cell_type": "code",
   "execution_count": 23,
   "id": "3210c2e4",
   "metadata": {},
   "outputs": [],
   "source": [
    "import cv2"
   ]
  },
  {
   "cell_type": "code",
   "execution_count": 24,
   "id": "da939f9e",
   "metadata": {},
   "outputs": [],
   "source": [
    "img = cv2.imread('ft1.jpeg')"
   ]
  },
  {
   "cell_type": "code",
   "execution_count": 25,
   "id": "3763a2f2",
   "metadata": {},
   "outputs": [],
   "source": [
    "gry_img = cv2.cvtColor(img,cv2.COLOR_BGR2GRAY)\n",
    "ret,thresh = cv2.threshold(gry_img,127,255,0)\n",
    "contours,hierarchy = cv2.findContours(thresh, cv2.RETR_TREE, cv2.CHAIN_APPROX_NONE)"
   ]
  },
  {
   "cell_type": "code",
   "execution_count": 26,
   "id": "14eb1930",
   "metadata": {},
   "outputs": [
    {
     "name": "stdout",
     "output_type": "stream",
     "text": [
      "Number of Contours : 70\n"
     ]
    }
   ],
   "source": [
    "print(\"Number of Contours : \" + str(len(contours)))\n",
    "cv2.drawContours(img,contours, -1 , (0,0,255), 2)\n",
    "cv2.imshow('Original Image',img)\n",
    "cv2.imshow('Gray Image',gry_img)\n",
    "cv2.waitKey(0)\n",
    "cv2.destroyAllWindows()\n"
   ]
  },
  {
   "cell_type": "code",
   "execution_count": null,
   "id": "0debc643",
   "metadata": {},
   "outputs": [],
   "source": []
  }
 ],
 "metadata": {
  "kernelspec": {
   "display_name": "Python 3 (ipykernel)",
   "language": "python",
   "name": "python3"
  },
  "language_info": {
   "codemirror_mode": {
    "name": "ipython",
    "version": 3
   },
   "file_extension": ".py",
   "mimetype": "text/x-python",
   "name": "python",
   "nbconvert_exporter": "python",
   "pygments_lexer": "ipython3",
   "version": "3.11.3"
  }
 },
 "nbformat": 4,
 "nbformat_minor": 5
}
