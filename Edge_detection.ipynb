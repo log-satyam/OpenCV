{
 "cells": [
  {
   "cell_type": "code",
   "execution_count": 4,
   "id": "9272cc27",
   "metadata": {},
   "outputs": [],
   "source": [
    "import cv2\n",
    "import numpy as np"
   ]
  },
  {
   "cell_type": "code",
   "execution_count": 5,
   "id": "b2912386",
   "metadata": {},
   "outputs": [],
   "source": [
    "cap = cv2.VideoCapture('Scenary.mp4')"
   ]
  },
  {
   "cell_type": "code",
   "execution_count": 6,
   "id": "338d9f9e",
   "metadata": {},
   "outputs": [],
   "source": [
    "while True:\n",
    "    _, frame = cap.read()\n",
    "    resized_frame = cv2.resize(frame,(300,300))\n",
    "    \n",
    "    laplacian = cv2.Laplacian(resized_frame, cv2.CV_64F)\n",
    "    sobelx = cv2.Sobel(resized_frame, cv2.CV_64F,1,0, ksize = 5)\n",
    "    sobely = cv2.Sobel(resized_frame, cv2.CV_64F,0,1, ksize = 5)\n",
    "\n",
    "    #Edge detection\n",
    "    \n",
    "    edges = cv2.Canny(resized_frame,200,200)\n",
    "    \n",
    "    cv2.imshow('Original',resized_frame)\n",
    "    cv2.imshow('Laplacian', laplacian)\n",
    "    cv2.imshow('Sobel X',sobelx)\n",
    "    cv2.imshow('Sobel Y',sobely)\n",
    "    cv2.imshow('Edges',edges)\n",
    "    \n",
    "    if cv2.waitKey(40) & 0xff == ord('s'):\n",
    "        break\n",
    "        \n",
    "cap.release()\n",
    "cv2.destroyAllWindows()\n",
    "\n"
   ]
  }
 ],
 "metadata": {
  "kernelspec": {
   "display_name": "Python 3 (ipykernel)",
   "language": "python",
   "name": "python3"
  },
  "language_info": {
   "codemirror_mode": {
    "name": "ipython",
    "version": 3
   },
   "file_extension": ".py",
   "mimetype": "text/x-python",
   "name": "python",
   "nbconvert_exporter": "python",
   "pygments_lexer": "ipython3",
   "version": "3.11.3"
  }
 },
 "nbformat": 4,
 "nbformat_minor": 5
}
